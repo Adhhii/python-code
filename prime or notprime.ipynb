def isprime():
    dividers =[]
    while True:
        number = int(input('Enter a number'))
        if number < 2 :
            print('Invalid!! , please enter a large number')
        else:
            print('you have entered',number)
    
        for i in range(2,number):
            if number % i == 0:
                dividers.append(i)
            break
        
        if len(dividers) != 0:
            print(f'{number} is not a prime number because it is divisible by {dividers}')
        else:
            print(f'{number} is a prime number')
        break

def yesno():
    while True:
        wish = input('Would you like to check for another number(yes/no):')
        if wish == 'yes':
            isprime()
        elif wish == 'no':
            print('Thank you')
            break
        else:
            print('please enter a yes or no only')

isprime()
yesno()
        
        
    
    
